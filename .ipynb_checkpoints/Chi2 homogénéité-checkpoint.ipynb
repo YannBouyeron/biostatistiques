{
 "cells": [
  {
   "cell_type": "markdown",
   "id": "1036769e",
   "metadata": {},
   "source": [
    "# Le test d’homogénéité du Chi<sup>2</sup>.\n",
    "\n",
    "Le test d’homogénéité du Chi<sup>2</sup> teste si deux variables continues ou qualitatives (X1, X2) suivent la même loi de distribution.\n",
    "\n",
    "- Hypothèse nulle : X1 et X2 suivent la même loi de distribution.\n",
    "\n",
    "- Hypothèse alternative : X1 et X2 ne suivent pas la même loi de distribution.\n",
    "\n",
    "*Dans un cas continue, il faut discrétiser les variables en les agrégeant par classes. On compare ensuite les effectifs de X1 aux effectifs de X2 pour les différentes classes.*\n",
    "\n",
    "\n",
    "Nous prendrons ici l'exemple d'une [population de moustiques](https://ipfs.io/ipfs/Qmf3BaSr1ZC99E3rMG3yRqp5y1oXesMb4Fye25HW6Go3Kv). On souhaite determiner si cette population est à l'équilibre de HW.\n",
    "\n",
    "X1 (effectifs observés) et X2 (effectifs théoriques) constituent 2 variables qualitatives à 3 modalités chacune (R//R , R//S, S//S)\n",
    "\n",
    "**On construit un tableau croisé (matrice) entre nos variables X1 (effectifs observés) et X2 (effectifs théoriques) et leurs modalités**\n",
    "\n",
    "<div align=center><table>\n",
    "\n",
    "<tr>\n",
    "\n",
    "<th></th><th>R//R</th><th>R//S</th><th>S//S</th>\n",
    "\n",
    "</tr><tr>\n",
    "\n",
    "<th>Observé</th><td>66</td><td>130</td><td>220</td>\n",
    "\n",
    "</tr><tr>\n",
    "\n",
    "<th>Théorique (HW)</th><td>41,25</td><td>179,5</td><td>195,25</td>\n",
    "\n",
    "</tr></table></div>\n",
    "\n",
    "\n",
    "\n",
    "**On calcule ensuite le Chi<sup>2</sup> local de chaque colonne.**\n",
    "\n",
    "- Chi<sup>2</sup> local = (effectif observé - effectif théorique)<sup>2</sup> / effectif théorique.\n",
    "\n",
    "- Dans le cas d’effectifs observés (n < 50) ou lorsque l’un des effectifs théoriques est trop faible (n < 10), il faut appliquer la correction de Yates: Chi<sup>2</sup> local = ( | effectif observé - effectif théorique | - 0,5 )<sup>2</sup> / effectif théorique.\n",
    "\n",
    "\n",
    "<div align=center><table>\n",
    "\n",
    "<tr>\n",
    "\n",
    "<th></th><th>R//R</th><th>R//S</th><th>S//S</th>\n",
    "\n",
    "</tr><tr>\n",
    "\n",
    "<th>Observé</th><td>66</td><td>130</td><td>220</td>\n",
    "\n",
    "</tr><tr>\n",
    "\n",
    "<th>Théorique (HW)</th><td>41,25</td><td>179,5</td><td>195,25</td>\n",
    "\n",
    "\n",
    "</tr><tr>\n",
    "\n",
    "<th>Chi<sup>2</sup> local</th><td>14,84</td><td>13,64</td><td>3,13</td>\n",
    "\n",
    "</tr></table></div> \n",
    "\n",
    "**On calcule le Chi<sup>2</sup> total observé.**\n",
    "\n",
    "- Chi<sup>2</sup> observé = somme des Chi<sup>2</sup> locaux = 31,63\n",
    "\n",
    "**On détermine le nombre de degré de liberté (ddl) de notre matrice.**\n",
    "\n",
    "- z = (nombre de colonnes - 1) * (nombre de lignes -1) \n",
    "\n",
    "- z = (3 - 1) * (2 - 1) = 2 ddl\n",
    "\n",
    "**On détermine le Chi<sup>2</sup> théorique au seuil α désiré grâce à la [table](https://who.rocq.inria.fr/Jean-Marc.Lasgouttes/ana-donnees/chi-deux.pdf) du Chi<sup>2</sup> .**\n",
    "\n",
    "- z = 2 ddl\n",
    "\n",
    "- α = 5% = 0,05 (c’est le pourcentage de risque de se tromper que l’on accepte)\n",
    "\n",
    "- Chi<sup>2</sup> (z, α)  = Chi<sup>2</sup> (2, 0,05) = 5,991 \n",
    "\n",
    "**On compare le Chi<sup>2</sup> observé et le Chi<sup>2</sup> théorique.**\n",
    "\n",
    "- Si  Chi<sup>2</sup> observé < Chi<sup>2</sup> théorique, on ne peut pas rejeter l’hypothèse nulle (X1 et X2 suivent la même loi de distribution)\n",
    "\n",
    "- Si  Chi<sup>2</sup> observé > Chi<sup>2</sup> théorique, on rejete l’hypothèse nulle (X1 et X2 suivent la même loi de distribution) avec un risque d’erreur α = 5% de se tromper, et on accepte l’hypothèse alternative (X1 et X2 ne suivent pas la même loi de distribution).\n",
    "\n",
    "Dans notre cas on constate que Chi<sup>2</sup> observé (31,63) > Chi<sup>2</sup> (2, 0,05) théorique (5,991) donc on rejete l’hypothèse nulle (X1 et X2 suivent la même loi de distribution) avec un risque d’erreur α = 5% de se tromper, et on accepte l’hypothèse alternative (X1 et X2 ne suivent pas la même loi de distribution). \n",
    "\n",
    "Une méthode alternative pour prendre la décision consiste à calculer la p_value et la comparer au seuil α:\n",
    "\n",
    "- Si  p_value > α, on ne peut pas rejeter l’hypothèse nulle (X1 et X2 suivent la même loi de distribution)\n",
    "\n",
    "- Si  p_value < α, on rejete l’hypothèse nulle (X1 et X2 suivent la même loi de distribution) avec un risque d’erreur α = 5% de se tromper, et on accepte l’hypothèse alternative (X1 et X2 ne suivent pas la même loi de distribution).\n",
    "\n",
    "\n",
    "Nos deux variables ne suivent donc pas la même loi de distribution. La population n'est donc pas à l'équilibre de HW.\n",
    "\n",
    "**On peut rechercher la cause de ce déséquilibre:**\n",
    "\n",
    "Sachant que:\n",
    "\n",
    "- le phénotype [resistant] conféré par l'allèle (R) est récessif par rapport au phénotype [sensible] conféré par l'allème (S)\n",
    "\n",
    "- le phénotype [développement rapide] conféré par l'allèle (S) est récessif par rapport au phénotype [développement lent] conféré par l'allèle (R)\n",
    "\n",
    "On en déduit que dans un milieu exposé aux insecticides:\n",
    "\n",
    "- les (R//R) sont avantagés par leur résistance aux insecticides (bien qu'étant déavantagés par leur développement lent) ce qui explique l'excès de (R//R) par rapport à HW\n",
    "\n",
    "- les (R//S) sont doublement désavantagés par leur sensibilité aux insecticides et par leur développement lent, ce qui explique le déficit de (R//S) par rapport à HW\n",
    "\n",
    "- les (S//S) sont avantagés par leur développement rapide (bien qu'étant déavantagés par leur sensibilité aux insecticides) ce qui explique l'excès de (S//S) par rapport à HW\n",
    "\n",
    "\n",
    "\n",
    "\n",
    "\n",
    "**Sources:**\n",
    "\n",
    "- [Université de Lyon](http://mathsv-ressources.univ-lyon1.fr/cours/stats/chap7/c7p2/c7p2.html)\n",
    "- [Lemakistatheux](https://lemakistatheux.wordpress.com/tag/test-dhomogeneite-du-chi2/)"
   ]
  },
  {
   "cell_type": "markdown",
   "id": "850bb87f",
   "metadata": {},
   "source": [
    "### Avec python"
   ]
  },
  {
   "cell_type": "code",
   "execution_count": 1,
   "id": "8c736fe1",
   "metadata": {},
   "outputs": [],
   "source": [
    "%config Completer.use_jedi = False\n",
    "%matplotlib inline \n",
    "\n",
    "import matplotlib.pyplot as plt\n",
    "import pandas as pd\n",
    "import numpy as np\n",
    "from scipy.stats import chisquare\n",
    "\n",
    "plt.style.use(\"seaborn-white\")"
   ]
  },
  {
   "cell_type": "code",
   "execution_count": 2,
   "id": "8741c4b6",
   "metadata": {
    "tags": []
   },
   "outputs": [],
   "source": [
    "df = pd.DataFrame({\"R//R\":(66,), \"R//S\":(130,), \"S//S\":(220,)}, index=(\"Observé\",))"
   ]
  },
  {
   "cell_type": "code",
   "execution_count": 3,
   "id": "787ed16b",
   "metadata": {},
   "outputs": [
    {
     "data": {
      "text/html": [
       "<div>\n",
       "<style scoped>\n",
       "    .dataframe tbody tr th:only-of-type {\n",
       "        vertical-align: middle;\n",
       "    }\n",
       "\n",
       "    .dataframe tbody tr th {\n",
       "        vertical-align: top;\n",
       "    }\n",
       "\n",
       "    .dataframe thead th {\n",
       "        text-align: right;\n",
       "    }\n",
       "</style>\n",
       "<table border=\"1\" class=\"dataframe\">\n",
       "  <thead>\n",
       "    <tr style=\"text-align: right;\">\n",
       "      <th></th>\n",
       "      <th>R//R</th>\n",
       "      <th>R//S</th>\n",
       "      <th>S//S</th>\n",
       "    </tr>\n",
       "  </thead>\n",
       "  <tbody>\n",
       "    <tr>\n",
       "      <th>Observé</th>\n",
       "      <td>66</td>\n",
       "      <td>130</td>\n",
       "      <td>220</td>\n",
       "    </tr>\n",
       "  </tbody>\n",
       "</table>\n",
       "</div>"
      ],
      "text/plain": [
       "         R//R  R//S  S//S\n",
       "Observé    66   130   220"
      ]
     },
     "execution_count": 3,
     "metadata": {},
     "output_type": "execute_result"
    }
   ],
   "source": [
    "df"
   ]
  },
  {
   "cell_type": "code",
   "execution_count": 4,
   "id": "15fd3237",
   "metadata": {},
   "outputs": [
    {
     "data": {
      "text/html": [
       "<div>\n",
       "<style scoped>\n",
       "    .dataframe tbody tr th:only-of-type {\n",
       "        vertical-align: middle;\n",
       "    }\n",
       "\n",
       "    .dataframe tbody tr th {\n",
       "        vertical-align: top;\n",
       "    }\n",
       "\n",
       "    .dataframe thead th {\n",
       "        text-align: right;\n",
       "    }\n",
       "</style>\n",
       "<table border=\"1\" class=\"dataframe\">\n",
       "  <thead>\n",
       "    <tr style=\"text-align: right;\">\n",
       "      <th></th>\n",
       "      <th>R//R</th>\n",
       "      <th>R//S</th>\n",
       "      <th>S//S</th>\n",
       "    </tr>\n",
       "  </thead>\n",
       "  <tbody>\n",
       "    <tr>\n",
       "      <th>Observé</th>\n",
       "      <td>66.000000</td>\n",
       "      <td>130.000000</td>\n",
       "      <td>220.000000</td>\n",
       "    </tr>\n",
       "    <tr>\n",
       "      <th>Théorique</th>\n",
       "      <td>41.252404</td>\n",
       "      <td>179.495192</td>\n",
       "      <td>195.252404</td>\n",
       "    </tr>\n",
       "  </tbody>\n",
       "</table>\n",
       "</div>"
      ],
      "text/plain": [
       "                R//R        R//S        S//S\n",
       "Observé    66.000000  130.000000  220.000000\n",
       "Théorique  41.252404  179.495192  195.252404"
      ]
     },
     "execution_count": 4,
     "metadata": {},
     "output_type": "execute_result"
    }
   ],
   "source": [
    "obs = np.array(df.loc[\"Observé\"])\n",
    "\n",
    "s = sum(obs)\n",
    "\n",
    "p = (66 + 130/2) / s\n",
    "q = 1 - p\n",
    "\n",
    "t = [((p**2) * s), (2*p*q*s), ((q**2) * s)]\n",
    "t = pd.DataFrame([t], columns=(\"R//R\",\"R//S\",\"S//S\"), index=[\"Théorique\"])\n",
    "\n",
    "df = pd.concat([df,t])\n",
    "\n",
    "df"
   ]
  },
  {
   "cell_type": "code",
   "execution_count": 5,
   "id": "08fb198f",
   "metadata": {},
   "outputs": [],
   "source": [
    "chi2, p_value = chisquare(df.loc[\"Observé\"], f_exp=df.loc[\"Théorique\"])"
   ]
  },
  {
   "cell_type": "code",
   "execution_count": 6,
   "id": "4d87e41b",
   "metadata": {},
   "outputs": [
    {
     "data": {
      "text/plain": [
       "31.631058197069734"
      ]
     },
     "execution_count": 6,
     "metadata": {},
     "output_type": "execute_result"
    }
   ],
   "source": [
    "chi2"
   ]
  },
  {
   "cell_type": "code",
   "execution_count": 7,
   "id": "7621753c",
   "metadata": {},
   "outputs": [
    {
     "data": {
      "text/plain": [
       "1.3533277406650094e-07"
      ]
     },
     "execution_count": 7,
     "metadata": {},
     "output_type": "execute_result"
    }
   ],
   "source": [
    "p_value"
   ]
  },
  {
   "cell_type": "markdown",
   "id": "61b1e550",
   "metadata": {},
   "source": [
    "On constate que la p_value est < au seuil α = 0,05 donc on rejete l'hypothèse nulle (X1 et X2 suivent la même loi de distribution) avec un risque d’erreur α = 5% de se tromper, et on accepte l’hypothèse alternative (X1 et X2 ne suivent pas la même loi de distribution). Nos deux variables ne suivent donc pas la même loi de distribution. La population n'est donc pas à l'équilibre de HW."
   ]
  },
  {
   "cell_type": "code",
   "execution_count": null,
   "id": "ed7eda85",
   "metadata": {},
   "outputs": [],
   "source": []
  }
 ],
 "metadata": {
  "kernelspec": {
   "display_name": "Python 3 (ipykernel)",
   "language": "python",
   "name": "python3"
  },
  "language_info": {
   "codemirror_mode": {
    "name": "ipython",
    "version": 3
   },
   "file_extension": ".py",
   "mimetype": "text/x-python",
   "name": "python",
   "nbconvert_exporter": "python",
   "pygments_lexer": "ipython3",
   "version": "3.7.3"
  }
 },
 "nbformat": 4,
 "nbformat_minor": 5
}
