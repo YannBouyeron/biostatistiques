{
 "cells": [
  {
   "cell_type": "markdown",
   "id": "9b68e3c5",
   "metadata": {},
   "source": [
    "# Le test d’indépendance du Chi<sup>2</sup>.\n",
    "\n",
    "Le test d’indépendance du Chi<sup>2</sup> teste la liaison entre deux variables qualitatives distinctes (X 1, X 2). \n",
    "\n",
    "- Hypothèse nulle : Indépendance entre les deux variables.\n",
    "\n",
    "- Hypothèse alternative : Dépendance entre les deux variables.\n",
    "\n",
    "Le test d’indépendance du Chi<sup>2</sup> peut être utilisé avec des variables qualitatives, quantitatives discrètes ou quantitatives continues. La ou les éventuelles variables quantitatives continues devront préalablement être discrétisées en les agrégeant par classes.\n",
    "\n",
    "\n",
    "**On construit un tableau croisé (tableau de contingence ou matrice) dynamique entre X1 et X2**\n",
    "\n",
    "<div align=center><table>\n",
    "\n",
    "<tr>\n",
    "\n",
    "<th></th><th>Médicament</th><th>Placébo</th>\n",
    "\n",
    "</tr><tr>\n",
    "\n",
    "<th>Survie</th><td>300</td><td>250</td>\n",
    "\n",
    "</tr><tr>\n",
    "\n",
    "<th>Mort</th><td>210</td><td>270</td>\n",
    "\n",
    "</tr></table></div>\n",
    "\n",
    "\n",
    "**Les effectifs théoriques attendus sous l’hypothèse nulle sont calculés en fonction de la distribution attendue si l’on est en présence d’une configuration aléatoire.**\n",
    "\n",
    "- E11 = Total colonne 1 *  Total ligne 1 /  Total\n",
    "\n",
    "\n",
    "<div align=center><table>\n",
    "\n",
    "<tr>\n",
    "\n",
    "<th></th><th>Médicament</th><th>Placébo</th><th>Total ligne</th>\n",
    "\n",
    "</tr><tr>\n",
    "\n",
    "<th>Survie</th><td>300 [272,33]</td><td>250 [277,66]</td><td>550</td>\n",
    "\n",
    "</tr><tr>\n",
    "\n",
    "<th>Mort</th><td>210 [237,66]</td><td>270 [242,33]</td><td>480</td>\n",
    "\n",
    "\n",
    "</tr><tr>\n",
    "\n",
    "<th>Total colonne</th><td>510</td><td>520</td><td>1030</td>\n",
    "\n",
    "</tr></table></div>\n",
    "\n",
    "**On calcule ensuite le Chi<sup>2</sup> local de chaque case.**\n",
    "\n",
    "- Chi<sup>2</sup> local = (effectif observé - effectif théorique)<sup>2</sup> / effectif théorique.\n",
    "\n",
    "- Dans le cas d’une matrice de 2 x 2, on applique la correction de Yates: Chi<sup>2</sup> local = ( | effectif observé - effectif théorique | - 0,5 )<sup>2</sup> / effectif théorique.\n",
    "\n",
    "<div align=center><table>\n",
    "\n",
    "<tr>\n",
    "\n",
    "<th></th><th>Médicament</th><th>Placébo</th><th>Total ligne</th>\n",
    "\n",
    "</tr><tr>\n",
    "\n",
    "<th>Survie</th><td>300 [272,33] 2,71</td><td>250 [277,66] 2,65</td><td>550</td>\n",
    "\n",
    "</tr><tr>\n",
    "\n",
    "<th>Mort</th><td>210 [237,66] 3,10</td><td>270 [242,33] 3,04</td><td>480</td>\n",
    "\n",
    "\n",
    "</tr><tr>\n",
    "\n",
    "<th>Total colonne</th><td>510</td><td>520</td><td>1030</td>\n",
    "\n",
    "</tr></table></div> \n",
    "\n",
    "**On calcule le Chi<sup>2</sup> total observé.**\n",
    "\n",
    "- Chi<sup>2</sup> observé = somme des Chi<sup>2</sup> locaux = 11,5\n",
    "\n",
    "**On détermine le nombre de degré de liberté (ddl) de notre tableau de contingence.**\n",
    "\n",
    "- Z = (nombre de colonnes - 1) * (nombre de lignes -1) = 1\n",
    "\n",
    "**On détermine le Chi<sup>2</sup> théorique au seuil α désiré grâce à la [table](https://who.rocq.inria.fr/Jean-Marc.Lasgouttes/ana-donnees/chi-deux.pdf) du Chi<sup>2</sup> .**\n",
    "\n",
    "- z = 1\n",
    "\n",
    "- α = 5% = 0,05 (c’est le pourcentage de risque de se tromper que l’on accepte)\n",
    "\n",
    "- Chi<sup>2</sup> (z, α)  = Chi<sup>2</sup> (1, 0,05) = 3,841 \n",
    "\n",
    "**On compare le Chi<sup>2</sup> observé et le Chi<sup>2</sup> théorique.**\n",
    "\n",
    "- Si  Chi<sup>2</sup> observé < Chi<sup>2</sup> théorique, on ne peut pas rejeter l’hypothèse nulle (indépendance)\n",
    "\n",
    "- Si  Chi<sup>2</sup> observé > Chi<sup>2</sup> théorique, on rejete l’hypothèse nulle (indépendance) avec un risque d’erreur α = 5% de se tromper, et on accepte l’hypothèse alternative.\n",
    "\n",
    "Dans notre cas on constate que Chi<sup>2</sup> observé (11,5) > Chi<sup>2</sup> (1, 0,05) théorique (3,841) donc on rejete l’hypothèse nulle (indépendance) avec un risque d’erreur α = 5% de se tromper, et on accepte l’hypothèse alternative. Nos deux variables sont dépendantes. Donc le traitement est éfficace.\n",
    "\n",
    "Une méthode alternative pour prendre la décision consiste à calculer la p_value et la comparer au seuil α:\n",
    "\n",
    "- Si  p_value > α, on ne peut pas rejeter l’hypothèse nulle (indépendance)\n",
    "\n",
    "- Si  p_value < α, on rejete l’hypothèse nulle (indépendance) avec un risque d’erreur α = 5% de se tromper, et on accepte l’hypothèse alternative (dépendance).\n",
    "\n",
    "**Sources:**\n",
    "\n",
    "- [Université de Lyon](http://mathsv-ressources.univ-lyon1.fr/cours/stats/chap7/c7p2/c7p2.html)\n",
    "- [Lemakistatheux](https://lemakistatheux.wordpress.com/tag/test-dhomogeneite-du-chi2/)"
   ]
  },
  {
   "cell_type": "markdown",
   "id": "287de112",
   "metadata": {},
   "source": [
    "### Avec python"
   ]
  },
  {
   "cell_type": "code",
   "execution_count": 11,
   "id": "3aece350",
   "metadata": {},
   "outputs": [],
   "source": [
    "%config Completer.use_jedi = False\n",
    "%matplotlib inline \n",
    "\n",
    "import matplotlib.pyplot as plt\n",
    "import pandas as pd\n",
    "import numpy as np\n",
    "import scipy.stats\n",
    "\n",
    "plt.style.use(\"seaborn-white\")"
   ]
  },
  {
   "cell_type": "code",
   "execution_count": 12,
   "id": "229529f4",
   "metadata": {
    "tags": []
   },
   "outputs": [],
   "source": [
    "df = pd.DataFrame({\"Médicament\":(300,210), \"Placébo\":(250,270)}, index=(\"Survie\",\"Mort\"))"
   ]
  },
  {
   "cell_type": "code",
   "execution_count": 13,
   "id": "d6079f17",
   "metadata": {},
   "outputs": [
    {
     "data": {
      "text/html": [
       "<div>\n",
       "<style scoped>\n",
       "    .dataframe tbody tr th:only-of-type {\n",
       "        vertical-align: middle;\n",
       "    }\n",
       "\n",
       "    .dataframe tbody tr th {\n",
       "        vertical-align: top;\n",
       "    }\n",
       "\n",
       "    .dataframe thead th {\n",
       "        text-align: right;\n",
       "    }\n",
       "</style>\n",
       "<table border=\"1\" class=\"dataframe\">\n",
       "  <thead>\n",
       "    <tr style=\"text-align: right;\">\n",
       "      <th></th>\n",
       "      <th>Médicament</th>\n",
       "      <th>Placébo</th>\n",
       "    </tr>\n",
       "  </thead>\n",
       "  <tbody>\n",
       "    <tr>\n",
       "      <th>Survie</th>\n",
       "      <td>300</td>\n",
       "      <td>250</td>\n",
       "    </tr>\n",
       "    <tr>\n",
       "      <th>Mort</th>\n",
       "      <td>210</td>\n",
       "      <td>270</td>\n",
       "    </tr>\n",
       "  </tbody>\n",
       "</table>\n",
       "</div>"
      ],
      "text/plain": [
       "        Médicament  Placébo\n",
       "Survie         300      250\n",
       "Mort           210      270"
      ]
     },
     "execution_count": 13,
     "metadata": {},
     "output_type": "execute_result"
    }
   ],
   "source": [
    "df"
   ]
  },
  {
   "cell_type": "code",
   "execution_count": 14,
   "id": "4130e1da",
   "metadata": {},
   "outputs": [],
   "source": [
    "chi2, p_value, ddl, matrice = scipy.stats.chi2_contingency(df, correction=True)"
   ]
  },
  {
   "cell_type": "code",
   "execution_count": 15,
   "id": "427665de",
   "metadata": {},
   "outputs": [
    {
     "data": {
      "text/plain": [
       "11.521536515465739"
      ]
     },
     "execution_count": 15,
     "metadata": {},
     "output_type": "execute_result"
    }
   ],
   "source": [
    "chi2"
   ]
  },
  {
   "cell_type": "code",
   "execution_count": 16,
   "id": "9716d3ba",
   "metadata": {},
   "outputs": [
    {
     "data": {
      "text/plain": [
       "0.0006879450394528442"
      ]
     },
     "execution_count": 16,
     "metadata": {},
     "output_type": "execute_result"
    }
   ],
   "source": [
    "p_value"
   ]
  },
  {
   "cell_type": "code",
   "execution_count": 17,
   "id": "9c3e8dd8",
   "metadata": {},
   "outputs": [
    {
     "data": {
      "text/plain": [
       "1"
      ]
     },
     "execution_count": 17,
     "metadata": {},
     "output_type": "execute_result"
    }
   ],
   "source": [
    "ddl"
   ]
  },
  {
   "cell_type": "code",
   "execution_count": 18,
   "id": "0bcaa192",
   "metadata": {},
   "outputs": [
    {
     "data": {
      "text/plain": [
       "array([[272.33009709, 277.66990291],\n",
       "       [237.66990291, 242.33009709]])"
      ]
     },
     "execution_count": 18,
     "metadata": {},
     "output_type": "execute_result"
    }
   ],
   "source": [
    "matrice"
   ]
  },
  {
   "cell_type": "code",
   "execution_count": 19,
   "id": "a493a436",
   "metadata": {},
   "outputs": [],
   "source": [
    "théorique = pd.DataFrame(matrice,columns=(\"Médicament\",\"Placébo\"),index=(\"Survie\",\"Mort\"))"
   ]
  },
  {
   "cell_type": "code",
   "execution_count": null,
   "id": "bb2b3fe0",
   "metadata": {},
   "outputs": [],
   "source": [
    "théorique"
   ]
  },
  {
   "cell_type": "markdown",
   "id": "4ad43904",
   "metadata": {},
   "source": [
    "On constate que la p_value est < au seuil α = 0,05 donc on rejete l'hypothèse nulle (indépendance) avec un risque d’erreur α = 5% de se tromper, et on accepte l’hypothèse alternative. Nos deux variables sont dépendantes. Donc le traitement est éfficace."
   ]
  }
 ],
 "metadata": {
  "kernelspec": {
   "display_name": "Python 3 (ipykernel)",
   "language": "python",
   "name": "python3"
  },
  "language_info": {
   "codemirror_mode": {
    "name": "ipython",
    "version": 3
   },
   "file_extension": ".py",
   "mimetype": "text/x-python",
   "name": "python",
   "nbconvert_exporter": "python",
   "pygments_lexer": "ipython3",
   "version": "3.9.10+"
  }
 },
 "nbformat": 4,
 "nbformat_minor": 5
}
